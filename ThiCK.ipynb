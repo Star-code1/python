{
 "cells": [
  {
   "cell_type": "markdown",
   "metadata": {},
   "source": [
    "<h2>EDA</h2>\n",
    "Mô hình KNN (K-NN)\n",
    "<br>\n",
    "Decision Tree\n",
    "<br>\n",
    "Mô hình Bayes (Bayesian)\n",
    "<br>\n",
    "Mô hình hồi quy đa biến đơn (Multiple - Linear - Regression)\n",
    "<br>\n"
   ]
  }
 ],
 "metadata": {
  "language_info": {
   "name": "python"
  }
 },
 "nbformat": 4,
 "nbformat_minor": 2
}
